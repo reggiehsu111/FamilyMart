{
 "cells": [
  {
   "cell_type": "code",
   "execution_count": 1,
   "metadata": {},
   "outputs": [],
   "source": [
    "import pickle\n",
    "import numpy as np\n",
    "\n",
    "train_file = \"model_total/data/train_data.pkl\"\n",
    "test_file = \"model_total/data/test_data.pkl\"\n",
    "\n",
    "train_mean_file = \"model_total/data/train_mean.pkl\"\n",
    "test_mean_file = \"model_total/data/test_mean.pkl\"\n",
    "\n",
    "train_std_file = \"model_total/data/train_std.pkl\"\n",
    "test_std_file = \"model_total/data/test_std.pkl\"\n",
    "\n",
    "train_data = pickle.load(open(train_file, \"rb\"))\n",
    "test_data = pickle.load(open(test_file, \"rb\"))\n",
    "\n",
    "mean1 = float(pickle.load(open(train_mean_file, \"rb\")))\n",
    "mean2 = float(pickle.load(open(test_mean_file, \"rb\")))\n",
    "\n",
    "std1 = float(pickle.load(open(train_std_file, \"rb\")))\n",
    "std2 = float(pickle.load(open(test_std_file, \"rb\")))\n"
   ]
  },
  {
   "cell_type": "code",
   "execution_count": null,
   "metadata": {},
   "outputs": [
    {
     "data": {
      "image/png": "[encoded data removed]",
      "text/plain": [
       "<Figure size 1332x756 with 1 Axes>"
      ]
     },
     "metadata": {
      "needs_background": "light"
     },
     "output_type": "display_data"
    }
   ],
   "source": [
    "%matplotlib inline\n",
    "import matplotlib.pyplot as plt\n",
    "from IPython.display import clear_output\n",
    "\n",
    "td = train_data*std1 + mean1\n",
    "td = td.numpy()\n",
    "\n",
    "for i,row in enumerate(td):\n",
    "    plt.scatter(range(0, train_data.shape[1]), row, label=\"row \" + str(i))\n",
    "    plt.legend()\n",
    "    fig = plt.gcf()\n",
    "    fig.set_size_inches(18.5, 10.5)\n",
    "    plt.show()\n",
    "    input()\n",
    "    clear_output()"
   ]
  },
  {
   "cell_type": "code",
   "execution_count": 2,
   "metadata": {},
   "outputs": [],
   "source": [
    "\n",
    "\n",
    "\n",
    "\n",
    "\n",
    "\n",
    "\n",
    "\n",
    "\n",
    "\n",
    "\n",
    "\n",
    "\n",
    "data_norm = data_norm.numpy()"
   ]
  },
  {
   "cell_type": "code",
   "execution_count": 3,
   "metadata": {},
   "outputs": [
    {
     "data": {
      "text/plain": [
       "(730, 5, 759)"
      ]
     },
     "execution_count": 3,
     "metadata": {},
     "output_type": "execute_result"
    }
   ],
   "source": [
    "data_norm.shape"
   ]
  },
  {
   "cell_type": "code",
   "execution_count": 5,
   "metadata": {},
   "outputs": [
    {
     "name": "stdout",
     "output_type": "stream",
     "text": [
      "416450.0005016327 470018.0005016327 0.8860298968489955\n"
     ]
    }
   ],
   "source": [
    "diff = 0\n",
    "summation = 0\n",
    "data = data_norm*std + mean\n",
    "\n",
    "for idx in range(data.shape[2]):\n",
    "    for store in range(5):\n",
    "        d = data[:-142, store, idx]\n",
    "        me = np.median(d)\n",
    "        for val in d:\n",
    "            diff += abs(me - val)\n",
    "            summation += val\n",
    "            \n",
    "print(diff, summation, diff / summation)"
   ]
  },
  {
   "cell_type": "code",
   "execution_count": 2,
   "metadata": {},
   "outputs": [
    {
     "name": "stdout",
     "output_type": "stream",
     "text": [
      "          原始店號        日期     商品代號  銷售數量\n",
      "0         1205  20170101  3410025     1\n",
      "1         1205  20170101  3410025     1\n",
      "2         1205  20170101  1810792     1\n",
      "3         1205  20170101  2920637     2\n",
      "4         1205  20170101  5842614     1\n",
      "...        ...       ...      ...   ...\n",
      "1417895  12236  20181231  1720082     1\n",
      "1417896  12236  20181231  3110180     1\n",
      "1417897  12236  20181231  6115400     1\n",
      "1417898  12236  20181231  2710189     1\n",
      "1417899  12236  20181231  2910367     2\n",
      "\n",
      "[2814781 rows x 4 columns]\n"
     ]
    }
   ],
   "source": [
    "import pandas as pd\n",
    "from pathlib import Path\n",
    "\n",
    "data_dir = Path('data')\n",
    "\n",
    "sales_dataframes = []\n",
    "for year in [2017, 2018]:\n",
    "    sales_dataframes.append(\n",
    "        pd.read_csv(\n",
    "            data_dir / '銷售數量{}.txt'.format(year), sep='\\t'\n",
    "        ).loc[:, ['原始店號', '日期', '商品代號', '銷售數量']]\n",
    "    )\n",
    "\n",
    "sales_data = pd.concat(sales_dataframes, axis=0)\n",
    "\n",
    "print(sales_data)"
   ]
  },
  {
   "cell_type": "code",
   "execution_count": 9,
   "metadata": {},
   "outputs": [],
   "source": [
    "sale_data_agged = sales_data.groupby(['日期', '原始店號', '商品代號'], as_index=True).agg([\"sum\"])\n"
   ]
  },
  {
   "cell_type": "code",
   "execution_count": 11,
   "metadata": {},
   "outputs": [
    {
     "data": {
      "text/plain": [
       "MultiIndex([(20170101,  1205,  610010),\n",
       "            (20170101,  1205,  610038),\n",
       "            (20170101,  1205,  610042),\n",
       "            (20170101,  1205,  610088),\n",
       "            (20170101,  1205,  610238),\n",
       "            (20170101,  1205,  610256),\n",
       "            (20170101,  1205,  611052),\n",
       "            (20170101,  1205,  611393),\n",
       "            (20170101,  1205,  611448),\n",
       "            (20170101,  1205,  611452),\n",
       "            ...\n",
       "            (20181231, 12236, 6138175),\n",
       "            (20181231, 12236, 6160178),\n",
       "            (20181231, 12236, 6160423),\n",
       "            (20181231, 12236, 6160437),\n",
       "            (20181231, 12236, 6160441),\n",
       "            (20181231, 12236, 6160946),\n",
       "            (20181231, 12236, 6160950),\n",
       "            (20181231, 12236, 6160964),\n",
       "            (20181231, 12236, 6160978),\n",
       "            (20181231, 12236, 6160982)],\n",
       "           names=['日期', '原始店號', '商品代號'], length=1436147)"
      ]
     },
     "execution_count": 11,
     "metadata": {},
     "output_type": "execute_result"
    }
   ],
   "source": [
    "sale_data_agged\n",
    "sale_data_agged.index"
   ]
  },
  {
   "cell_type": "code",
   "execution_count": 21,
   "metadata": {},
   "outputs": [
    {
     "name": "stdout",
     "output_type": "stream",
     "text": [
      "1\n"
     ]
    }
   ],
   "source": [
    "print(sale_data_agged.loc[20170101,  1205,  610010]['銷售數量', \"sum\"])"
   ]
  },
  {
   "cell_type": "code",
   "execution_count": 4,
   "metadata": {},
   "outputs": [],
   "source": [
    "import pandas as pd\n",
    "from pathlib import Path\n",
    "\n",
    "data_dir = Path('data')\n",
    "commodity_dataframe = pd.read_csv(data_dir / '商品主檔.txt', sep='\\t')\n"
   ]
  },
  {
   "cell_type": "code",
   "execution_count": 27,
   "metadata": {},
   "outputs": [
    {
     "data": {
      "text/plain": [
       "6"
      ]
     },
     "execution_count": 27,
     "metadata": {},
     "output_type": "execute_result"
    }
   ],
   "source": [
    "indexed_frame = commodity_dataframe.loc[:, [\"商品代號\", \"原始店號\", \"品番\", \"群番\"]].set_index([\"商品代號\", \"原始店號\"])\n",
    "indexed_frame.loc[617008, 1205][\"品番\"]"
   ]
  },
  {
   "cell_type": "code",
   "execution_count": 5,
   "metadata": {},
   "outputs": [
    {
     "name": "stdout",
     "output_type": "stream",
     "text": [
      "tensor([ 2,  4,  6,  8, 10], dtype=torch.int32)\n",
      "tensor([4, 5, 6, 7, 8, 9], dtype=torch.int32)\n"
     ]
    }
   ],
   "source": [
    "import numpy as np\n",
    "import torch\n",
    "a = np.array([1,2,3,4,5,6,7,8,9])\n",
    "b = torch.tensor(a[:5])\n",
    "c = torch.tensor(a[3:])\n",
    "\n",
    "b *= 2\n",
    "print(b)\n",
    "print(c)"
   ]
  },
  {
   "cell_type": "code",
   "execution_count": 19,
   "metadata": {},
   "outputs": [
    {
     "name": "stdout",
     "output_type": "stream",
     "text": [
      "tensor([1, 2, 3, 4, 5, 4, 5, 6, 5, 6, 7, 8, 9], dtype=torch.int32)\n"
     ]
    }
   ],
   "source": [
    "\n",
    "a = np.array([1,2,3,4,5,6,7,8,9])\n",
    "b = torch.tensor(a[:5])\n",
    "c = torch.tensor(a[3:6])\n",
    "d = torch.tensor(a[4:])\n",
    "\n",
    "e = torch.cat((b,c,d), 0)\n",
    "print(e)"
   ]
  },
  {
   "cell_type": "code",
   "execution_count": 12,
   "metadata": {},
   "outputs": [
    {
     "name": "stdout",
     "output_type": "stream",
     "text": [
      "33 1\n"
     ]
    }
   ],
   "source": [
    "a, b = divmod(100,3)\n",
    "print(a, b)"
   ]
  },
  {
   "cell_type": "code",
   "execution_count": 8,
   "metadata": {},
   "outputs": [],
   "source": [
    "import numpy as np\n",
    "def cmp_to_key(mycmp):\n",
    "    'Convert a cmp= function into a key= function'\n",
    "    class K:\n",
    "        def __init__(self, obj, *args):\n",
    "            self.obj = obj\n",
    "        def __lt__(self, other):\n",
    "            return mycmp(self.obj, other.obj) < 0\n",
    "        def __gt__(self, other):\n",
    "            return mycmp(self.obj, other.obj) > 0\n",
    "        def __eq__(self, other):\n",
    "            return mycmp(self.obj, other.obj) == 0\n",
    "        def __le__(self, other):\n",
    "            return mycmp(self.obj, other.obj) <= 0\n",
    "        def __ge__(self, other):\n",
    "            return mycmp(self.obj, other.obj) >= 0\n",
    "        def __ne__(self, other):\n",
    "            return mycmp(self.obj, other.obj) != 0\n",
    "    return K\n",
    "\n",
    "def feature_cmp(x, y):\n",
    "    for i in range(len(x)):\n",
    "        if x[i] != y[i]:\n",
    "            return y[i] - x[i]\n",
    "    return 0     \n",
    "\n",
    "a = [np.array([1,0,1,0,1,0]), np.array([1,1,0,0,1,0]), np.array([0,0,0,0,0,0]), np.array([0,1,1,1,0,1])]\n",
    "\n",
    "b = np.array(sorted(a, key=cmp_to_key(feature_cmp)))"
   ]
  },
  {
   "cell_type": "code",
   "execution_count": 9,
   "metadata": {},
   "outputs": [
    {
     "name": "stdout",
     "output_type": "stream",
     "text": [
      "[[1 1 0 0 1 0]\n",
      " [1 0 1 0 1 0]\n",
      " [0 1 1 1 0 1]\n",
      " [0 0 0 0 0 0]]\n"
     ]
    }
   ],
   "source": [
    "print(b)"
   ]
  },
  {
   "cell_type": "code",
   "execution_count": 12,
   "metadata": {},
   "outputs": [],
   "source": [
    "import pickle\n",
    "import numpy as np\n",
    "import torch\n",
    "\n",
    "feature_file = \"model_total/data/feature_data.pkl\"\n",
    "feature = pickle.load(open(feature_file, \"rb\"))\n",
    "\n"
   ]
  },
  {
   "cell_type": "code",
   "execution_count": 13,
   "metadata": {},
   "outputs": [],
   "source": [
    "row = feature[0]"
   ]
  },
  {
   "cell_type": "code",
   "execution_count": 20,
   "metadata": {},
   "outputs": [
    {
     "name": "stdout",
     "output_type": "stream",
     "text": [
      "tensor([1., 0., 0., 0., 0., 1., 0., 0., 0., 0., 0., 0., 0., 0., 0., 0., 0., 1.,\n",
      "        0., 0., 0., 0., 0., 0., 0., 0., 0., 0., 0., 0., 0., 0., 0., 0., 0., 0.,\n",
      "        0., 0., 0., 0., 0., 0., 0., 0., 0., 0., 0., 0., 0., 0., 0., 0., 0., 0.])\n",
      "tensor([1., 0., 0., 0., 0., 1., 0., 0., 0., 0., 0., 0., 0., 0., 0., 0., 0., 1.,\n",
      "        0., 0., 0., 0., 0., 0., 0., 0., 0., 0., 0., 0., 0., 0., 0., 0., 0., 0.,\n",
      "        0., 0., 0., 0., 0., 0., 0., 0., 0., 0., 0., 0., 0., 0., 0., 0., 0., 0.])\n"
     ]
    }
   ],
   "source": [
    "a = torch.cat((feature[0][:5], feature[0][5+759:]), dim=0)\n",
    "b = torch.cat((feature[1][:5], feature[1][5+759:]), dim=0)\n",
    "print(a)\n",
    "print(b)"
   ]
  },
  {
   "cell_type": "code",
   "execution_count": 25,
   "metadata": {},
   "outputs": [
    {
     "data": {
      "text/plain": [
       "tensor([0., 0., 0., 0., 0.])"
      ]
     },
     "execution_count": 25,
     "metadata": {},
     "output_type": "execute_result"
    }
   ],
   "source": [
    "torch.zeros(5)"
   ]
  },
  {
   "cell_type": "code",
   "execution_count": 1,
   "metadata": {},
   "outputs": [],
   "source": [
    "import pandas as pd\n"
   ]
  },
  {
   "cell_type": "code",
   "execution_count": 18,
   "metadata": {},
   "outputs": [],
   "source": [
    "with open(\"data/銷售數量\" + \"2017\" + \"_transformed.csv\", 'r', encoding='utf-8') as f:\n",
    "    order_df = pd.read_csv(f, sep=',')"
   ]
  },
  {
   "cell_type": "code",
   "execution_count": 27,
   "metadata": {},
   "outputs": [],
   "source": [
    "shop_df = order_df[order_df[\"原始店號\"] == 1205]\n",
    "row = shop_df[shop_df[\"商品代號\"] == 610010].values"
   ]
  },
  {
   "cell_type": "code",
   "execution_count": 41,
   "metadata": {},
   "outputs": [],
   "source": [
    "a = set(shop_df[\"商品代號\"].values)\n"
   ]
  },
  {
   "cell_type": "code",
   "execution_count": 46,
   "metadata": {},
   "outputs": [
    {
     "data": {
      "text/plain": [
       "True"
      ]
     },
     "execution_count": 46,
     "metadata": {},
     "output_type": "execute_result"
    }
   ],
   "source": [
    "1540121 in a"
   ]
  },
  {
   "cell_type": "code",
   "execution_count": 47,
   "metadata": {},
   "outputs": [],
   "source": [
    "import numpy as np"
   ]
  },
  {
   "cell_type": "code",
   "execution_count": 48,
   "metadata": {},
   "outputs": [
    {
     "ename": "ValueError",
     "evalue": "operands could not be broadcast together with shapes (7,) (5,) ",
     "output_type": "error",
     "traceback": [
      "\u001b[1;31m---------------------------------------------------------------------------\u001b[0m",
      "\u001b[1;31mValueError\u001b[0m                                Traceback (most recent call last)",
      "\u001b[1;32m<ipython-input-48-1be48b3240cd>\u001b[0m in \u001b[0;36m<module>\u001b[1;34m\u001b[0m\n\u001b[0;32m      1\u001b[0m \u001b[0ma\u001b[0m \u001b[1;33m=\u001b[0m \u001b[0mnp\u001b[0m\u001b[1;33m.\u001b[0m\u001b[0marray\u001b[0m\u001b[1;33m(\u001b[0m\u001b[1;33m[\u001b[0m\u001b[1;36m1\u001b[0m\u001b[1;33m,\u001b[0m\u001b[1;36m2\u001b[0m\u001b[1;33m,\u001b[0m\u001b[1;36m3\u001b[0m\u001b[1;33m,\u001b[0m\u001b[1;36m4\u001b[0m\u001b[1;33m,\u001b[0m\u001b[1;36m0\u001b[0m\u001b[1;33m,\u001b[0m\u001b[1;36m0\u001b[0m\u001b[1;33m,\u001b[0m\u001b[1;36m0\u001b[0m\u001b[1;33m]\u001b[0m\u001b[1;33m)\u001b[0m\u001b[1;33m\u001b[0m\u001b[1;33m\u001b[0m\u001b[0m\n\u001b[0;32m      2\u001b[0m \u001b[0mb\u001b[0m \u001b[1;33m=\u001b[0m \u001b[0mnp\u001b[0m\u001b[1;33m.\u001b[0m\u001b[0marray\u001b[0m\u001b[1;33m(\u001b[0m\u001b[1;33m[\u001b[0m\u001b[1;36m1\u001b[0m\u001b[1;33m,\u001b[0m\u001b[1;36m2\u001b[0m\u001b[1;33m,\u001b[0m\u001b[1;36m3\u001b[0m\u001b[1;33m,\u001b[0m\u001b[1;36m0\u001b[0m\u001b[1;33m,\u001b[0m\u001b[1;36m0\u001b[0m\u001b[1;33m]\u001b[0m\u001b[1;33m)\u001b[0m\u001b[1;33m\u001b[0m\u001b[1;33m\u001b[0m\u001b[0m\n\u001b[1;32m----> 3\u001b[1;33m \u001b[0ma\u001b[0m\u001b[1;33m+\u001b[0m\u001b[0mb\u001b[0m\u001b[1;33m\u001b[0m\u001b[1;33m\u001b[0m\u001b[0m\n\u001b[0m",
      "\u001b[1;31mValueError\u001b[0m: operands could not be broadcast together with shapes (7,) (5,) "
     ]
    }
   ],
   "source": [
    "a = np.array([1,2,3,4,0,0,0])\n",
    "b = np.array([1,2,3,0,0])\n",
    "a+b"
   ]
  },
  {
   "cell_type": "code",
   "execution_count": null,
   "metadata": {},
   "outputs": [],
   "source": []
  }
 ],
 "metadata": {
  "kernelspec": {
   "display_name": "Python 3",
   "language": "python",
   "name": "python3"
  },
  "language_info": {
   "codemirror_mode": {
    "name": "ipython",
    "version": 3
   },
   "file_extension": ".py",
   "mimetype": "text/x-python",
   "name": "python",
   "nbconvert_exporter": "python",
   "pygments_lexer": "ipython3",
   "version": "3.7.3"
  }
 },
 "nbformat": 4,
 "nbformat_minor": 4
}
