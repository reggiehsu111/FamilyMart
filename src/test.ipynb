{
 "cells": [
  {
   "cell_type": "code",
   "execution_count": 9,
   "metadata": {},
   "outputs": [
    {
     "name": "stdout",
     "output_type": "stream",
     "text": [
      "原始店號\t商品名稱\t商品代號\t品番\t群番\t有效期限\t進貨成本\t銷售價格\t品牌\t配別\n",
      "\n"
     ]
    }
   ],
   "source": [
    "with open(\"main.txt\", 'r') as f:\n",
    "    data = f.readlines()\n"
   ]
  },
  {
   "cell_type": "code",
   "execution_count": 4,
   "metadata": {},
   "outputs": [],
   "source": [
    "import pandas as pd\n",
    "data = pd.read_csv('main.txt', sep=\"\\t\")"
   ]
  },
  {
   "cell_type": "code",
   "execution_count": 5,
   "metadata": {},
   "outputs": [
    {
     "name": "stdout",
     "output_type": "stream",
     "text": [
      "   原始店號           商品名稱    商品代號  品番  群番 有效期限   進貨成本  銷售價格   品牌    配別\n",
      "0  1205      和風昆布吻仔魚飯糰  617008   6  61   D1  18.28    32  飯糰屋  41.0\n",
      "1  1205       日式稻荷味付飯糰  610779   6  61   D1  21.33    35  飯糰屋  41.0\n",
      "2  1205           肉鬆飯糰  610501   6  61   D1  12.80    23  飯糰屋  41.0\n",
      "3  1205           鮪魚飯糰  610515   6  61   D1  13.33    25  飯糰屋  41.0\n",
      "4  1205         鮑菇脆筍飯糰  610010   6  61   D1  13.42    25  飯糰屋  41.0\n",
      "5  1205  玉米火腿蛋沙拉飯糰（北區）  611834   6  61   D1  14.28    25  飯糰屋  41.0\n",
      "6  1205        泰式打拋豬飯糰  610533   6  61   D1  16.26    28  飯糰屋  41.0\n",
      "7  1205       一配鹽蔥燒肉飯糰  611016   6  61   D1  17.14    30  飯糰屋  41.0\n",
      "8  1205   明太子龍蝦風味飯糰（區）  619937   6  61   D1  17.71    30  飯糰屋  41.0\n",
      "9  1205          大稻荷飯糰  610674   6  61   D1  17.42    30   飯糰  41.0\n"
     ]
    }
   ],
   "source": [
    "print(data.head(10))"
   ]
  },
  {
   "cell_type": "code",
   "execution_count": 7,
   "metadata": {},
   "outputs": [
    {
     "data": {
      "text/html": [
       "<div>\n",
       "<style scoped>\n",
       "    .dataframe tbody tr th:only-of-type {\n",
       "        vertical-align: middle;\n",
       "    }\n",
       "\n",
       "    .dataframe tbody tr th {\n",
       "        vertical-align: top;\n",
       "    }\n",
       "\n",
       "    .dataframe thead th {\n",
       "        text-align: right;\n",
       "    }\n",
       "</style>\n",
       "<table border=\"1\" class=\"dataframe\">\n",
       "  <thead>\n",
       "    <tr style=\"text-align: right;\">\n",
       "      <th></th>\n",
       "      <th>原始店號</th>\n",
       "      <th>商品代號</th>\n",
       "      <th>品番</th>\n",
       "      <th>群番</th>\n",
       "      <th>進貨成本</th>\n",
       "      <th>銷售價格</th>\n",
       "      <th>配別</th>\n",
       "    </tr>\n",
       "  </thead>\n",
       "  <tbody>\n",
       "    <tr>\n",
       "      <th>count</th>\n",
       "      <td>22675.000000</td>\n",
       "      <td>2.267500e+04</td>\n",
       "      <td>22675.000000</td>\n",
       "      <td>22675.000000</td>\n",
       "      <td>22675.000000</td>\n",
       "      <td>22675.000000</td>\n",
       "      <td>18990.000000</td>\n",
       "    </tr>\n",
       "    <tr>\n",
       "      <th>mean</th>\n",
       "      <td>5955.400000</td>\n",
       "      <td>2.939147e+06</td>\n",
       "      <td>29.009482</td>\n",
       "      <td>293.766483</td>\n",
       "      <td>74.343202</td>\n",
       "      <td>105.023594</td>\n",
       "      <td>16.501316</td>\n",
       "    </tr>\n",
       "    <tr>\n",
       "      <th>std</th>\n",
       "      <td>3832.755365</td>\n",
       "      <td>1.765510e+06</td>\n",
       "      <td>17.663615</td>\n",
       "      <td>176.488083</td>\n",
       "      <td>154.953974</td>\n",
       "      <td>202.392129</td>\n",
       "      <td>16.634130</td>\n",
       "    </tr>\n",
       "    <tr>\n",
       "      <th>min</th>\n",
       "      <td>1205.000000</td>\n",
       "      <td>6.100100e+05</td>\n",
       "      <td>6.000000</td>\n",
       "      <td>61.000000</td>\n",
       "      <td>0.000000</td>\n",
       "      <td>0.000000</td>\n",
       "      <td>1.000000</td>\n",
       "    </tr>\n",
       "    <tr>\n",
       "      <th>25%</th>\n",
       "      <td>3047.000000</td>\n",
       "      <td>1.530833e+06</td>\n",
       "      <td>15.000000</td>\n",
       "      <td>153.000000</td>\n",
       "      <td>19.430000</td>\n",
       "      <td>32.000000</td>\n",
       "      <td>1.000000</td>\n",
       "    </tr>\n",
       "    <tr>\n",
       "      <th>50%</th>\n",
       "      <td>5638.000000</td>\n",
       "      <td>2.461245e+06</td>\n",
       "      <td>24.000000</td>\n",
       "      <td>246.000000</td>\n",
       "      <td>33.670000</td>\n",
       "      <td>50.000000</td>\n",
       "      <td>11.000000</td>\n",
       "    </tr>\n",
       "    <tr>\n",
       "      <th>75%</th>\n",
       "      <td>7651.000000</td>\n",
       "      <td>3.370647e+06</td>\n",
       "      <td>33.000000</td>\n",
       "      <td>337.000000</td>\n",
       "      <td>72.800000</td>\n",
       "      <td>99.000000</td>\n",
       "      <td>31.000000</td>\n",
       "    </tr>\n",
       "    <tr>\n",
       "      <th>max</th>\n",
       "      <td>12236.000000</td>\n",
       "      <td>6.180136e+06</td>\n",
       "      <td>61.000000</td>\n",
       "      <td>618.000000</td>\n",
       "      <td>4537.000000</td>\n",
       "      <td>6368.000000</td>\n",
       "      <td>91.000000</td>\n",
       "    </tr>\n",
       "  </tbody>\n",
       "</table>\n",
       "</div>"
      ],
      "text/plain": [
       "               原始店號          商品代號            品番            群番          進貨成本  \\\n",
       "count  22675.000000  2.267500e+04  22675.000000  22675.000000  22675.000000   \n",
       "mean    5955.400000  2.939147e+06     29.009482    293.766483     74.343202   \n",
       "std     3832.755365  1.765510e+06     17.663615    176.488083    154.953974   \n",
       "min     1205.000000  6.100100e+05      6.000000     61.000000      0.000000   \n",
       "25%     3047.000000  1.530833e+06     15.000000    153.000000     19.430000   \n",
       "50%     5638.000000  2.461245e+06     24.000000    246.000000     33.670000   \n",
       "75%     7651.000000  3.370647e+06     33.000000    337.000000     72.800000   \n",
       "max    12236.000000  6.180136e+06     61.000000    618.000000   4537.000000   \n",
       "\n",
       "               銷售價格            配別  \n",
       "count  22675.000000  18990.000000  \n",
       "mean     105.023594     16.501316  \n",
       "std      202.392129     16.634130  \n",
       "min        0.000000      1.000000  \n",
       "25%       32.000000      1.000000  \n",
       "50%       50.000000     11.000000  \n",
       "75%       99.000000     31.000000  \n",
       "max     6368.000000     91.000000  "
      ]
     },
     "execution_count": 7,
     "metadata": {},
     "output_type": "execute_result"
    }
   ],
   "source": [
    "data.describe()"
   ]
  },
  {
   "cell_type": "code",
   "execution_count": null,
   "metadata": {},
   "outputs": [],
   "source": []
  }
 ],
 "metadata": {
  "kernelspec": {
   "display_name": "Python 3",
   "language": "python",
   "name": "python3"
  },
  "language_info": {
   "codemirror_mode": {
    "name": "ipython",
    "version": 3
   },
   "file_extension": ".py",
   "mimetype": "text/x-python",
   "name": "python",
   "nbconvert_exporter": "python",
   "pygments_lexer": "ipython3",
   "version": "3.7.4"
  }
 },
 "nbformat": 4,
 "nbformat_minor": 2
}
