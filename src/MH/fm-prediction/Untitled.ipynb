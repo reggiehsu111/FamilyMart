{
 "cells": [
  {
   "cell_type": "code",
   "execution_count": 2,
   "metadata": {},
   "outputs": [],
   "source": [
    "import pandas as pd\n",
    "from pathlib import Path\n",
    "\n",
    "_time_table = {}\n",
    "\n",
    "def _get_formatted_time(idx):\n",
    "    if _time_table.get(idx) != None:\n",
    "        return _time_table[idx]\n",
    "\n",
    "    days_in_months = [31, 28, 31, 30, 31, 30, 31, 31, 30, 31, 30, 31]\n",
    "\n",
    "    year = idx // 365\n",
    "\n",
    "    days = idx % 365\n",
    "\n",
    "    month = None\n",
    "    for m, days_in_m in enumerate(days_in_months):\n",
    "        if days < days_in_m:\n",
    "            month = m + 1\n",
    "            break\n",
    "\n",
    "        days -= days_in_m\n",
    "\n",
    "    date = days + 1\n",
    "\n",
    "    _time_table[idx] = int(\n",
    "        '201{}{:02d}{:02d}'.format(year + 7, month, date))\n",
    "\n",
    "    return _time_table[idx]"
   ]
  },
  {
   "cell_type": "code",
   "execution_count": 7,
   "metadata": {},
   "outputs": [
    {
     "ename": "IndexError",
     "evalue": "tensors used as indices must be long, byte or bool tensors",
     "output_type": "error",
     "traceback": [
      "\u001b[0;31m------------\u001b[0m",
      "\u001b[0;31mIndexError\u001b[0mTraceback (most recent call last)",
      "\u001b[0;32m<ipython-input-7-278c25fe6177>\u001b[0m in \u001b[0;36m<module>\u001b[0;34m\u001b[0m\n\u001b[1;32m     49\u001b[0m                          num_workers)\n\u001b[1;32m     50\u001b[0m \u001b[0;34m\u001b[0m\u001b[0m\n\u001b[0;32m---> 51\u001b[0;31m \u001b[0mx\u001b[0m\u001b[0;34m,\u001b[0m \u001b[0my\u001b[0m \u001b[0;34m=\u001b[0m \u001b[0mFamilyMartDataset\u001b[0m\u001b[0;34m(\u001b[0m\u001b[0mPath\u001b[0m\u001b[0;34m(\u001b[0m\u001b[0;34m'data/family_mart'\u001b[0m\u001b[0;34m)\u001b[0m\u001b[0;34m)\u001b[0m\u001b[0;34m[\u001b[0m\u001b[0;36m431\u001b[0m\u001b[0;34m]\u001b[0m\u001b[0;34m\u001b[0m\u001b[0;34m\u001b[0m\u001b[0m\n\u001b[0m\u001b[1;32m     52\u001b[0m \u001b[0mprint\u001b[0m\u001b[0;34m(\u001b[0m\u001b[0mx\u001b[0m\u001b[0;34m.\u001b[0m\u001b[0msize\u001b[0m\u001b[0;34m(\u001b[0m\u001b[0;34m)\u001b[0m\u001b[0;34m,\u001b[0m \u001b[0my\u001b[0m\u001b[0;34m.\u001b[0m\u001b[0msize\u001b[0m\u001b[0;34m(\u001b[0m\u001b[0;34m)\u001b[0m\u001b[0;34m)\u001b[0m\u001b[0;34m\u001b[0m\u001b[0;34m\u001b[0m\u001b[0m\n\u001b[1;32m     53\u001b[0m \u001b[0mprint\u001b[0m\u001b[0;34m(\u001b[0m\u001b[0mx\u001b[0m\u001b[0;34m,\u001b[0m \u001b[0my\u001b[0m\u001b[0;34m,\u001b[0m \u001b[0mtorch\u001b[0m\u001b[0;34m.\u001b[0m\u001b[0m__version__\u001b[0m\u001b[0;34m)\u001b[0m\u001b[0;34m\u001b[0m\u001b[0;34m\u001b[0m\u001b[0m\n",
      "\u001b[0;32m<ipython-input-7-278c25fe6177>\u001b[0m in \u001b[0;36m__getitem__\u001b[0;34m(self, idx)\u001b[0m\n\u001b[1;32m     38\u001b[0m             [y_index + i for i in range(interval)])\n\u001b[1;32m     39\u001b[0m \u001b[0;34m\u001b[0m\u001b[0m\n\u001b[0;32m---> 40\u001b[0;31m         \u001b[0;32mreturn\u001b[0m \u001b[0mself\u001b[0m\u001b[0;34m.\u001b[0m\u001b[0m_sales_data\u001b[0m\u001b[0;34m[\u001b[0m\u001b[0mx_indices\u001b[0m\u001b[0;34m]\u001b[0m\u001b[0;34m,\u001b[0m \u001b[0mself\u001b[0m\u001b[0;34m.\u001b[0m\u001b[0m_sales_data\u001b[0m\u001b[0;34m[\u001b[0m\u001b[0my_indices\u001b[0m\u001b[0;34m]\u001b[0m\u001b[0;34m\u001b[0m\u001b[0;34m\u001b[0m\u001b[0m\n\u001b[0m\u001b[1;32m     41\u001b[0m \u001b[0;34m\u001b[0m\u001b[0m\n\u001b[1;32m     42\u001b[0m \u001b[0;32mclass\u001b[0m \u001b[0mFamilyMartDataLoader\u001b[0m\u001b[0;34m(\u001b[0m\u001b[0mBaseDataLoader\u001b[0m\u001b[0;34m)\u001b[0m\u001b[0;34m:\u001b[0m\u001b[0;34m\u001b[0m\u001b[0;34m\u001b[0m\u001b[0m\n",
      "\u001b[0;31mIndexError\u001b[0m: tensors used as indices must be long, byte or bool tensors"
     ]
    }
   ],
   "source": [
    "import pickle\n",
    "import torch\n",
    "import pandas as pd\n",
    "from pathlib import Path\n",
    "from torch.utils.data import Dataset\n",
    "\n",
    "from base import BaseDataLoader\n",
    "\n",
    "class FamilyMartDataset(Dataset):\n",
    "    def __init__(self, data_dir):\n",
    "        # Window size is the number of consecutive days before the target\n",
    "        # day to choose for the model to predict the sales of the target\n",
    "        # day. i.e., the target day is not included in window size.\n",
    "        self._time_window_size = 20\n",
    "\n",
    "        with open(data_dir / 'sales_data.pkl', 'rb') as file:\n",
    "            self._sales_data = torch.tensor(pickle.load(file), dtype=torch.float)\n",
    "        with open(data_dir / 'commodity_codes.pkl', 'rb') as file:\n",
    "            self._commodity_codes = pickle.load(file)\n",
    "        with open(data_dir / 'store_codes.pkl', 'rb') as file:\n",
    "            self._store_codes = pickle.load(file)\n",
    "    \n",
    "    def __len__(self):\n",
    "        return 2 * 365 - self._time_window_size\n",
    "\n",
    "    def __getitem__(self, idx):\n",
    "        interval = len(self._store_codes) * len(self._commodity_codes)\n",
    "\n",
    "        x_index = idx * interval\n",
    "\n",
    "        x_indices = torch.tensor(\n",
    "            [range(x_index + i, self._time_window_size * interval, interval)\n",
    "             for i in range(interval)])\n",
    "\n",
    "        y_index = (idx + self._time_window_size) * interval\n",
    "\n",
    "        y_indices = torch.tensor(\n",
    "            [y_index + i for i in range(interval)])\n",
    "\n",
    "        return self._sales_data[x_indices], self._sales_data[y_indices]\n",
    "\n",
    "class FamilyMartDataLoader(BaseDataLoader):\n",
    "    def __init__(self, data_dir, batch_size, shuffle=True,\n",
    "                 validation_split_ratio=0.0, num_workers=1):\n",
    "\n",
    "        dataset = FamilyMartDataset(Path(data_dir))\n",
    "\n",
    "        super().__init__(dataset, batch_size, shuffle, validation_split_ratio,\n",
    "                         num_workers)\n",
    "\n",
    "x, y = FamilyMartDataset(Path('data/family_mart'))[431]\n",
    "print(x.size(), y.size())\n",
    "print(x, y, torch.__version__)"
   ]
  },
  {
   "cell_type": "code",
   "execution_count": 34,
   "metadata": {},
   "outputs": [
    {
     "name": "stdout",
     "output_type": "stream",
     "text": [
      "[ 617008  610779  610501 ... 6180013 6180136 6180027]\n"
     ]
    }
   ],
   "source": [
    "commodity_dataframe = pd.read_csv(\n",
    "        Path(data_dir) / '商品主檔.txt'.format(year), sep='\\t')\n",
    "print(commodity_dataframe.loc[:, '商品代號'].unique())"
   ]
  },
  {
   "cell_type": "code",
   "execution_count": 6,
   "metadata": {},
   "outputs": [
    {
     "name": "stdout",
     "output_type": "stream",
     "text": [
      "/usr/local/bin/python\n"
     ]
    }
   ],
   "source": [
    "!which python"
   ]
  }
 ],
 "metadata": {
  "kernelspec": {
   "display_name": "Python 3",
   "language": "python",
   "name": "python3"
  },
  "language_info": {
   "codemirror_mode": {
    "name": "ipython",
    "version": 3
   },
   "file_extension": ".py",
   "mimetype": "text/x-python",
   "name": "python",
   "nbconvert_exporter": "python",
   "pygments_lexer": "ipython3",
   "version": "3.7.3"
  }
 },
 "nbformat": 4,
 "nbformat_minor": 2
}
