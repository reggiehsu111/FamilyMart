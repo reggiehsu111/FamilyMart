{
 "cells": [
  {
   "cell_type": "code",
   "execution_count": 1,
   "metadata": {},
   "outputs": [],
   "source": [
    "import pandas as pd\n",
    "df = pd.read_csv('../data/銷售數量2017.txt', sep=\"\\t\")"
   ]
  },
  {
   "cell_type": "code",
   "execution_count": 2,
   "metadata": {},
   "outputs": [
    {
     "data": {
      "text/html": [
       "<div>\n",
       "<style scoped>\n",
       "    .dataframe tbody tr th:only-of-type {\n",
       "        vertical-align: middle;\n",
       "    }\n",
       "\n",
       "    .dataframe tbody tr th {\n",
       "        vertical-align: top;\n",
       "    }\n",
       "\n",
       "    .dataframe thead th {\n",
       "        text-align: right;\n",
       "    }\n",
       "</style>\n",
       "<table border=\"1\" class=\"dataframe\">\n",
       "  <thead>\n",
       "    <tr style=\"text-align: right;\">\n",
       "      <th></th>\n",
       "      <th>原始店號</th>\n",
       "      <th>日期</th>\n",
       "      <th>時間</th>\n",
       "      <th>商品代號</th>\n",
       "      <th>銷售數量</th>\n",
       "    </tr>\n",
       "  </thead>\n",
       "  <tbody>\n",
       "    <tr>\n",
       "      <th>count</th>\n",
       "      <td>1.396881e+06</td>\n",
       "      <td>1.396881e+06</td>\n",
       "      <td>1.396881e+06</td>\n",
       "      <td>1.396881e+06</td>\n",
       "      <td>1.396881e+06</td>\n",
       "    </tr>\n",
       "    <tr>\n",
       "      <th>mean</th>\n",
       "      <td>6.005215e+03</td>\n",
       "      <td>2.017068e+07</td>\n",
       "      <td>1.354761e+05</td>\n",
       "      <td>3.237401e+06</td>\n",
       "      <td>1.249516e+00</td>\n",
       "    </tr>\n",
       "    <tr>\n",
       "      <th>std</th>\n",
       "      <td>3.857010e+03</td>\n",
       "      <td>3.287368e+02</td>\n",
       "      <td>5.934784e+04</td>\n",
       "      <td>1.538470e+06</td>\n",
       "      <td>1.414346e+00</td>\n",
       "    </tr>\n",
       "    <tr>\n",
       "      <th>min</th>\n",
       "      <td>1.205000e+03</td>\n",
       "      <td>2.017010e+07</td>\n",
       "      <td>0.000000e+00</td>\n",
       "      <td>6.100100e+05</td>\n",
       "      <td>-2.400000e+02</td>\n",
       "    </tr>\n",
       "    <tr>\n",
       "      <th>25%</th>\n",
       "      <td>3.047000e+03</td>\n",
       "      <td>2.017041e+07</td>\n",
       "      <td>8.535900e+04</td>\n",
       "      <td>2.710189e+06</td>\n",
       "      <td>1.000000e+00</td>\n",
       "    </tr>\n",
       "    <tr>\n",
       "      <th>50%</th>\n",
       "      <td>5.638000e+03</td>\n",
       "      <td>2.017071e+07</td>\n",
       "      <td>1.329540e+05</td>\n",
       "      <td>2.960085e+06</td>\n",
       "      <td>1.000000e+00</td>\n",
       "    </tr>\n",
       "    <tr>\n",
       "      <th>75%</th>\n",
       "      <td>7.651000e+03</td>\n",
       "      <td>2.017093e+07</td>\n",
       "      <td>1.852480e+05</td>\n",
       "      <td>3.430188e+06</td>\n",
       "      <td>1.000000e+00</td>\n",
       "    </tr>\n",
       "    <tr>\n",
       "      <th>max</th>\n",
       "      <td>1.223600e+04</td>\n",
       "      <td>2.017123e+07</td>\n",
       "      <td>2.359590e+05</td>\n",
       "      <td>6.160750e+06</td>\n",
       "      <td>6.000000e+02</td>\n",
       "    </tr>\n",
       "  </tbody>\n",
       "</table>\n",
       "</div>"
      ],
      "text/plain": [
       "               原始店號            日期            時間          商品代號          銷售數量\n",
       "count  1.396881e+06  1.396881e+06  1.396881e+06  1.396881e+06  1.396881e+06\n",
       "mean   6.005215e+03  2.017068e+07  1.354761e+05  3.237401e+06  1.249516e+00\n",
       "std    3.857010e+03  3.287368e+02  5.934784e+04  1.538470e+06  1.414346e+00\n",
       "min    1.205000e+03  2.017010e+07  0.000000e+00  6.100100e+05 -2.400000e+02\n",
       "25%    3.047000e+03  2.017041e+07  8.535900e+04  2.710189e+06  1.000000e+00\n",
       "50%    5.638000e+03  2.017071e+07  1.329540e+05  2.960085e+06  1.000000e+00\n",
       "75%    7.651000e+03  2.017093e+07  1.852480e+05  3.430188e+06  1.000000e+00\n",
       "max    1.223600e+04  2.017123e+07  2.359590e+05  6.160750e+06  6.000000e+02"
      ]
     },
     "execution_count": 2,
     "metadata": {},
     "output_type": "execute_result"
    }
   ],
   "source": [
    "df.describe()"
   ]
  },
  {
   "cell_type": "code",
   "execution_count": 3,
   "metadata": {},
   "outputs": [
    {
     "name": "stdout",
     "output_type": "stream",
     "text": [
      "                            時間 銷售數量\n",
      "                           sum  sum\n",
      "原始店號  商品代號    日期                   \n",
      "1205  610010  20170101   12959    1\n",
      "              20170103   80341    1\n",
      "              20170104   64921    1\n",
      "              20170105   85317    1\n",
      "              20170106   94406    1\n",
      "...                        ...  ...\n",
      "12236 6160700 20171224  232659    1\n",
      "              20171227   83607    1\n",
      "              20171229  223444    1\n",
      "              20171230  192231    2\n",
      "              20171231  223509    1\n",
      "\n",
      "[707091 rows x 2 columns]\n"
     ]
    }
   ],
   "source": [
    "agged_df = df.groupby([\"原始店號\", \"商品代號\", \"日期\"], as_index=False).agg([\"sum\"])\n",
    "print(agged_df)"
   ]
  },
  {
   "cell_type": "code",
   "execution_count": 5,
   "metadata": {},
   "outputs": [],
   "source": [
    "dfg = df.groupby([\"原始店號\", \"商品代號\", \"日期\"], as_index=False)"
   ]
  },
  {
   "cell_type": "code",
   "execution_count": 7,
   "metadata": {},
   "outputs": [
    {
     "data": {
      "text/html": [
       "<div>\n",
       "<style scoped>\n",
       "    .dataframe tbody tr th:only-of-type {\n",
       "        vertical-align: middle;\n",
       "    }\n",
       "\n",
       "    .dataframe tbody tr th {\n",
       "        vertical-align: top;\n",
       "    }\n",
       "\n",
       "    .dataframe thead th {\n",
       "        text-align: right;\n",
       "    }\n",
       "</style>\n",
       "<table border=\"1\" class=\"dataframe\">\n",
       "  <thead>\n",
       "    <tr style=\"text-align: right;\">\n",
       "      <th></th>\n",
       "      <th>原始店號</th>\n",
       "      <th>日期</th>\n",
       "      <th>時間</th>\n",
       "      <th>商品代號</th>\n",
       "      <th>銷售數量</th>\n",
       "    </tr>\n",
       "  </thead>\n",
       "  <tbody>\n",
       "    <tr>\n",
       "      <th>32</th>\n",
       "      <td>1205</td>\n",
       "      <td>20170101</td>\n",
       "      <td>12959</td>\n",
       "      <td>610010</td>\n",
       "      <td>1</td>\n",
       "    </tr>\n",
       "  </tbody>\n",
       "</table>\n",
       "</div>"
      ],
      "text/plain": [
       "    原始店號        日期     時間    商品代號  銷售數量\n",
       "32  1205  20170101  12959  610010     1"
      ]
     },
     "execution_count": 7,
     "metadata": {},
     "output_type": "execute_result"
    }
   ],
   "source": [
    "dfg.get_group((1205, 610010, 20170101))"
   ]
  },
  {
   "cell_type": "code",
   "execution_count": 9,
   "metadata": {},
   "outputs": [],
   "source": [
    "dfga = dfg.agg([\"sum\"])"
   ]
  },
  {
   "cell_type": "code",
   "execution_count": 10,
   "metadata": {},
   "outputs": [
    {
     "data": {
      "text/plain": [
       "(707091, 2)"
      ]
     },
     "execution_count": 10,
     "metadata": {},
     "output_type": "execute_result"
    }
   ],
   "source": [
    "dfga.shape"
   ]
  },
  {
   "cell_type": "code",
   "execution_count": 14,
   "metadata": {},
   "outputs": [
    {
     "data": {
      "text/plain": [
       "707091"
      ]
     },
     "execution_count": 14,
     "metadata": {},
     "output_type": "execute_result"
    }
   ],
   "source": [
    "len(list(dfga.index))"
   ]
  },
  {
   "cell_type": "code",
   "execution_count": 1,
   "metadata": {},
   "outputs": [
    {
     "name": "stdout",
     "output_type": "stream",
     "text": [
      "2017-01-01 00:00:00\n"
     ]
    }
   ],
   "source": [
    "from datetime import datetime\n",
    "datetime_str = \"20170101\"\n",
    "datetime_obj = datetime.strptime(datetime_str, \"%Y%m%d\")\n",
    "print(datetime_obj)"
   ]
  },
  {
   "cell_type": "code",
   "execution_count": 5,
   "metadata": {},
   "outputs": [
    {
     "name": "stdout",
     "output_type": "stream",
     "text": [
      "30\n"
     ]
    }
   ],
   "source": [
    "datetime_str2 = \"20170131\"\n",
    "datetime_obj2 = datetime.strptime(datetime_str2, \"%Y%m%d\")\n",
    "delta = datetime_obj2 - datetime_obj\n",
    "print(delta.days)"
   ]
  },
  {
   "cell_type": "code",
   "execution_count": null,
   "metadata": {},
   "outputs": [],
   "source": []
  }
 ],
 "metadata": {
  "kernelspec": {
   "display_name": "Python 3",
   "language": "python",
   "name": "python3"
  },
  "language_info": {
   "codemirror_mode": {
    "name": "ipython",
    "version": 3
   },
   "file_extension": ".py",
   "mimetype": "text/x-python",
   "name": "python",
   "nbconvert_exporter": "python",
   "pygments_lexer": "ipython3",
   "version": "3.7.3"
  }
 },
 "nbformat": 4,
 "nbformat_minor": 4
}
