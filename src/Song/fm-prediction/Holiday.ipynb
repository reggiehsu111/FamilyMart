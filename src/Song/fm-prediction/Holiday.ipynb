{
 "cells": [
  {
   "cell_type": "code",
   "execution_count": 1,
   "metadata": {},
   "outputs": [],
   "source": [
    "import numpy as np\n",
    "import pandas as pd\n",
    "import pickle"
   ]
  },
  {
   "cell_type": "code",
   "execution_count": 2,
   "metadata": {},
   "outputs": [],
   "source": [
    "holiday = pd.read_csv(\"政府行政機關辦公日曆表_0006188957259157373306.csv\")"
   ]
  },
  {
   "cell_type": "code",
   "execution_count": 5,
   "metadata": {},
   "outputs": [],
   "source": [
    "holiday_data = holiday[['date', 'isHoliday']].values"
   ]
  },
  {
   "cell_type": "code",
   "execution_count": 21,
   "metadata": {},
   "outputs": [],
   "source": [
    "holiday_list = [x[0] for x in holiday_data[holiday_data[:,1] == '是']]"
   ]
  },
  {
   "cell_type": "code",
   "execution_count": 30,
   "metadata": {},
   "outputs": [],
   "source": [
    "isholiday = []\n",
    "import calendar\n",
    "for i in range(2017, 2019):\n",
    "    for j in range(1, 13):\n",
    "        num_of_day = calendar.monthrange(i,j)[1]\n",
    "        temp = np.zeros(num_of_day, dtype=int)\n",
    "        for day in range(1, num_of_day+1):\n",
    "            if str(i)+'/'+str(j)+'/'+str(day) in holiday_list:\n",
    "                temp[day - 1] = 1\n",
    "        isholiday.extend(temp)"
   ]
  },
  {
   "cell_type": "code",
   "execution_count": 35,
   "metadata": {},
   "outputs": [],
   "source": [
    "pickle.dump(isholiday, open(\"../data/is_holiday.pkl\", \"wb\"))"
   ]
  },
  {
   "cell_type": "code",
   "execution_count": 2,
   "metadata": {},
   "outputs": [],
   "source": [
    "import pickle\n",
    "import torch\n",
    "import pandas as pd\n",
    "from tqdm import tqdm\n",
    "from pathlib import Path\n",
    "import numpy as np\n"
   ]
  },
  {
   "cell_type": "code",
   "execution_count": 3,
   "metadata": {},
   "outputs": [],
   "source": [
    "def get_formatted_time(idx):\n",
    "    days_in_months = [31, 28, 31, 30, 31, 30, 31, 31, 30, 31, 30, 31]\n",
    "\n",
    "    year = idx // 365\n",
    "\n",
    "    days = idx % 365\n",
    "\n",
    "    month = None\n",
    "    for m, days_in_m in enumerate(days_in_months):\n",
    "        if days < days_in_m:\n",
    "            month = m + 1\n",
    "            break\n",
    "\n",
    "        days -= days_in_m\n",
    "\n",
    "    date = days + 1\n",
    "\n",
    "    return int('201{}{:02d}{:02d}'.format(year + 7, month, date))"
   ]
  },
  {
   "cell_type": "code",
   "execution_count": 4,
   "metadata": {},
   "outputs": [],
   "source": [
    "def get_valid_commodity_codes(commodity_dataframe, sales_data):\n",
    "    summed_data = sales_data.groupby('商品代號').agg('sum')\n",
    "\n",
    "    sales_data_lt_0 = summed_data.loc[summed_data['銷售數量'] > 20]\n",
    "\n",
    "    commodity_codes = sales_data_lt_0.index\n",
    "\n",
    "    expirations = commodity_dataframe['有效期限'].str.split('', n=2, expand=True)\n",
    "\n",
    "    condition = (\n",
    "        ((expirations[1] == 'D') & (pd.to_numeric(expirations[2]) < 6))\n",
    "        | ((expirations[1] == 'H') & (pd.to_numeric(expirations[2]) < 6 * 24))\n",
    "    )\n",
    "    expiration_st_6 = commodity_dataframe.loc[condition]\n",
    "\n",
    "    return set(commodity_codes).intersection(expiration_st_6['商品代號'].unique())"
   ]
  },
  {
   "cell_type": "code",
   "execution_count": 5,
   "metadata": {},
   "outputs": [],
   "source": [
    "data_dir = Path('../data')\n",
    "\n",
    "commodity_dataframe = pd.read_csv(\n",
    "    data_dir / '商品主檔.txt', sep='\\t')\n",
    "\n",
    "store_codes = (commodity_dataframe.loc[:, '原始店號']\n",
    "               .sort_values().unique())\n",
    "commodity_codes = (commodity_dataframe.loc[:, '商品代號']\n",
    "                   .sort_values().unique())\n",
    "\n",
    "group_data = commodity_dataframe[['商品代號', '品番', '群番']].values\n",
    "group_data = np.unique(group_data, axis = 0)\n",
    "\n",
    "commodity_codes2p = {}\n",
    "commodity_codes2c = {}\n",
    "for group in group_data:\n",
    "    commodity_codes2p[group[0]] = group[1]\n",
    "    commodity_codes2c[group[0]] = group[2]"
   ]
  },
  {
   "cell_type": "code",
   "execution_count": 7,
   "metadata": {},
   "outputs": [],
   "source": [
    "sales_dataframes = []\n",
    "for year in [2017, 2018]:\n",
    "    sales_dataframes.append(\n",
    "        pd.read_csv(\n",
    "            data_dir / '銷售數量{}.txt'.format(year), sep='\\t'\n",
    "        ).loc[:, ['原始店號', '日期', '商品代號', '銷售數量']]\n",
    "    )\n",
    "sales_data = pd.concat(sales_dataframes, axis=0)\n",
    "del sales_dataframes"
   ]
  },
  {
   "cell_type": "code",
   "execution_count": 9,
   "metadata": {},
   "outputs": [
    {
     "name": "stdout",
     "output_type": "stream",
     "text": [
      "759\n"
     ]
    }
   ],
   "source": [
    "commodity_codes = get_valid_commodity_codes(commodity_dataframe, sales_data)\n",
    "print(len(commodity_codes))"
   ]
  },
  {
   "cell_type": "code",
   "execution_count": 11,
   "metadata": {},
   "outputs": [],
   "source": [
    "sales_data = sales_data.groupby(['日期', '原始店號', '商品代號'])"
   ]
  },
  {
   "cell_type": "code",
   "execution_count": 14,
   "metadata": {},
   "outputs": [
    {
     "name": "stderr",
     "output_type": "stream",
     "text": [
      "100%|████████████████████████████████████████████████████████████████████████████| 730/730 [02:13<00:00,  6.04it/s]\n"
     ]
    }
   ],
   "source": [
    "processed_sales_data, processed_order_data = [], []\n",
    "for day_i in tqdm(range(2 * 365)):\n",
    "    time = get_formatted_time(day_i)\n",
    "    # print(time, end=' ', flush=True)\n",
    "\n",
    "    for sc in store_codes:\n",
    "        for cc in commodity_codes:\n",
    "            # print(cc)\n",
    "            try:\n",
    "                # print(sales_data.get_group((time, sc, cc))['銷售數量'].agg('sum'))\n",
    "                processed_sales_data.append(\n",
    "                    sales_data.get_group((time, sc, cc))['銷售數量'].agg('sum'))\n",
    "            except KeyError:\n",
    "                processed_sales_data.append(0)"
   ]
  },
  {
   "cell_type": "code",
   "execution_count": 20,
   "metadata": {},
   "outputs": [],
   "source": [
    "processed_sales_data = torch.tensor(processed_sales_data, dtype=torch.float)\n",
    "processed_sales_data = processed_sales_data.view(730, 5, -1)"
   ]
  },
  {
   "cell_type": "code",
   "execution_count": 23,
   "metadata": {},
   "outputs": [
    {
     "data": {
      "text/plain": [
       "torch.Size([730, 5, 759])"
      ]
     },
     "execution_count": 23,
     "metadata": {},
     "output_type": "execute_result"
    }
   ],
   "source": [
    "processed_sales_data.shape"
   ]
  }
 ],
 "metadata": {
  "kernelspec": {
   "display_name": "Python 3",
   "language": "python",
   "name": "python3"
  },
  "language_info": {
   "codemirror_mode": {
    "name": "ipython",
    "version": 3
   },
   "file_extension": ".py",
   "mimetype": "text/x-python",
   "name": "python",
   "nbconvert_exporter": "python",
   "pygments_lexer": "ipython3",
   "version": "3.7.3"
  }
 },
 "nbformat": 4,
 "nbformat_minor": 2
}
