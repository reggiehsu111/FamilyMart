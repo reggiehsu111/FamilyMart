{
 "cells": [
  {
   "cell_type": "code",
   "execution_count": 1,
   "metadata": {},
   "outputs": [
    {
     "name": "stdout",
     "output_type": "stream",
     "text": [
      "0.21069024503231049 0.2224588245153427 0.7216879725456238 0.7719413638114929\n"
     ]
    }
   ],
   "source": [
    "import pickle\n",
    "import numpy as np\n",
    "\n",
    "train_mean_file = \"model_total/data/train_mean.pkl\"\n",
    "test_mean_file = \"model_total/data/test_mean.pkl\"\n",
    "\n",
    "train_std_file = \"model_total/data/train_std.pkl\"\n",
    "test_std_file = \"model_total/data/test_std.pkl\"\n",
    "\n",
    "mean1 = float(pickle.load(open(train_mean_file, \"rb\")))\n",
    "mean2 = float(pickle.load(open(test_mean_file, \"rb\")))\n",
    "\n",
    "std1 = float(pickle.load(open(train_std_file, \"rb\")))\n",
    "std2 = float(pickle.load(open(test_std_file, \"rb\")))\n",
    "\n",
    "print(mean1, mean2, std1, std2)"
   ]
  },
  {
   "cell_type": "code",
   "execution_count": 2,
   "metadata": {},
   "outputs": [],
   "source": [
    "data_norm = data_norm.numpy()"
   ]
  },
  {
   "cell_type": "code",
   "execution_count": 3,
   "metadata": {},
   "outputs": [
    {
     "data": {
      "text/plain": [
       "(730, 5, 759)"
      ]
     },
     "execution_count": 3,
     "metadata": {},
     "output_type": "execute_result"
    }
   ],
   "source": [
    "data_norm.shape"
   ]
  },
  {
   "cell_type": "code",
   "execution_count": 5,
   "metadata": {},
   "outputs": [
    {
     "name": "stdout",
     "output_type": "stream",
     "text": [
      "416450.0005016327 470018.0005016327 0.8860298968489955\n"
     ]
    }
   ],
   "source": [
    "diff = 0\n",
    "summation = 0\n",
    "data = data_norm*std + mean\n",
    "\n",
    "for idx in range(data.shape[2]):\n",
    "    for store in range(5):\n",
    "        d = data[:-142, store, idx]\n",
    "        me = np.median(d)\n",
    "        for val in d:\n",
    "            diff += abs(me - val)\n",
    "            summation += val\n",
    "            \n",
    "print(diff, summation, diff / summation)"
   ]
  },
  {
   "cell_type": "code",
   "execution_count": 2,
   "metadata": {},
   "outputs": [
    {
     "name": "stdout",
     "output_type": "stream",
     "text": [
      "          原始店號        日期     商品代號  銷售數量\n",
      "0         1205  20170101  3410025     1\n",
      "1         1205  20170101  3410025     1\n",
      "2         1205  20170101  1810792     1\n",
      "3         1205  20170101  2920637     2\n",
      "4         1205  20170101  5842614     1\n",
      "...        ...       ...      ...   ...\n",
      "1417895  12236  20181231  1720082     1\n",
      "1417896  12236  20181231  3110180     1\n",
      "1417897  12236  20181231  6115400     1\n",
      "1417898  12236  20181231  2710189     1\n",
      "1417899  12236  20181231  2910367     2\n",
      "\n",
      "[2814781 rows x 4 columns]\n"
     ]
    }
   ],
   "source": [
    "import pandas as pd\n",
    "from pathlib import Path\n",
    "\n",
    "data_dir = Path('data')\n",
    "\n",
    "sales_dataframes = []\n",
    "for year in [2017, 2018]:\n",
    "    sales_dataframes.append(\n",
    "        pd.read_csv(\n",
    "            data_dir / '銷售數量{}.txt'.format(year), sep='\\t'\n",
    "        ).loc[:, ['原始店號', '日期', '商品代號', '銷售數量']]\n",
    "    )\n",
    "\n",
    "sales_data = pd.concat(sales_dataframes, axis=0)\n",
    "\n",
    "print(sales_data)"
   ]
  },
  {
   "cell_type": "code",
   "execution_count": 9,
   "metadata": {},
   "outputs": [],
   "source": [
    "sale_data_agged = sales_data.groupby(['日期', '原始店號', '商品代號'], as_index=True).agg([\"sum\"])\n"
   ]
  },
  {
   "cell_type": "code",
   "execution_count": 11,
   "metadata": {},
   "outputs": [
    {
     "data": {
      "text/plain": [
       "MultiIndex([(20170101,  1205,  610010),\n",
       "            (20170101,  1205,  610038),\n",
       "            (20170101,  1205,  610042),\n",
       "            (20170101,  1205,  610088),\n",
       "            (20170101,  1205,  610238),\n",
       "            (20170101,  1205,  610256),\n",
       "            (20170101,  1205,  611052),\n",
       "            (20170101,  1205,  611393),\n",
       "            (20170101,  1205,  611448),\n",
       "            (20170101,  1205,  611452),\n",
       "            ...\n",
       "            (20181231, 12236, 6138175),\n",
       "            (20181231, 12236, 6160178),\n",
       "            (20181231, 12236, 6160423),\n",
       "            (20181231, 12236, 6160437),\n",
       "            (20181231, 12236, 6160441),\n",
       "            (20181231, 12236, 6160946),\n",
       "            (20181231, 12236, 6160950),\n",
       "            (20181231, 12236, 6160964),\n",
       "            (20181231, 12236, 6160978),\n",
       "            (20181231, 12236, 6160982)],\n",
       "           names=['日期', '原始店號', '商品代號'], length=1436147)"
      ]
     },
     "execution_count": 11,
     "metadata": {},
     "output_type": "execute_result"
    }
   ],
   "source": [
    "sale_data_agged\n",
    "sale_data_agged.index"
   ]
  },
  {
   "cell_type": "code",
   "execution_count": 21,
   "metadata": {},
   "outputs": [
    {
     "name": "stdout",
     "output_type": "stream",
     "text": [
      "1\n"
     ]
    }
   ],
   "source": [
    "print(sale_data_agged.loc[20170101,  1205,  610010]['銷售數量', \"sum\"])"
   ]
  },
  {
   "cell_type": "code",
   "execution_count": 4,
   "metadata": {},
   "outputs": [],
   "source": [
    "import pandas as pd\n",
    "from pathlib import Path\n",
    "\n",
    "data_dir = Path('data')\n",
    "commodity_dataframe = pd.read_csv(data_dir / '商品主檔.txt', sep='\\t')\n"
   ]
  },
  {
   "cell_type": "code",
   "execution_count": 27,
   "metadata": {},
   "outputs": [
    {
     "data": {
      "text/plain": [
       "6"
      ]
     },
     "execution_count": 27,
     "metadata": {},
     "output_type": "execute_result"
    }
   ],
   "source": [
    "indexed_frame = commodity_dataframe.loc[:, [\"商品代號\", \"原始店號\", \"品番\", \"群番\"]].set_index([\"商品代號\", \"原始店號\"])\n",
    "indexed_frame.loc[617008, 1205][\"品番\"]"
   ]
  },
  {
   "cell_type": "code",
   "execution_count": 5,
   "metadata": {},
   "outputs": [
    {
     "name": "stdout",
     "output_type": "stream",
     "text": [
      "tensor([ 2,  4,  6,  8, 10], dtype=torch.int32)\n",
      "tensor([4, 5, 6, 7, 8, 9], dtype=torch.int32)\n"
     ]
    }
   ],
   "source": [
    "import numpy as np\n",
    "import torch\n",
    "a = np.array([1,2,3,4,5,6,7,8,9])\n",
    "b = torch.tensor(a[:5])\n",
    "c = torch.tensor(a[3:])\n",
    "\n",
    "b *= 2\n",
    "print(b)\n",
    "print(c)"
   ]
  },
  {
   "cell_type": "code",
   "execution_count": 19,
   "metadata": {},
   "outputs": [
    {
     "name": "stdout",
     "output_type": "stream",
     "text": [
      "tensor([1, 2, 3, 4, 5, 4, 5, 6, 5, 6, 7, 8, 9], dtype=torch.int32)\n"
     ]
    }
   ],
   "source": [
    "\n",
    "a = np.array([1,2,3,4,5,6,7,8,9])\n",
    "b = torch.tensor(a[:5])\n",
    "c = torch.tensor(a[3:6])\n",
    "d = torch.tensor(a[4:])\n",
    "\n",
    "e = torch.cat((b,c,d), 0)\n",
    "print(e)"
   ]
  },
  {
   "cell_type": "code",
   "execution_count": 12,
   "metadata": {},
   "outputs": [
    {
     "name": "stdout",
     "output_type": "stream",
     "text": [
      "33 1\n"
     ]
    }
   ],
   "source": [
    "a, b = divmod(100,3)\n",
    "print(a, b)"
   ]
  },
  {
   "cell_type": "code",
   "execution_count": null,
   "metadata": {},
   "outputs": [],
   "source": []
  }
 ],
 "metadata": {
  "kernelspec": {
   "display_name": "Python 3",
   "language": "python",
   "name": "python3"
  },
  "language_info": {
   "codemirror_mode": {
    "name": "ipython",
    "version": 3
   },
   "file_extension": ".py",
   "mimetype": "text/x-python",
   "name": "python",
   "nbconvert_exporter": "python",
   "pygments_lexer": "ipython3",
   "version": "3.7.4"
  }
 },
 "nbformat": 4,
 "nbformat_minor": 4
}
